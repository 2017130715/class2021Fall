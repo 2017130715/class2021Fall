{
  "nbformat": 4,
  "nbformat_minor": 0,
  "metadata": {
    "colab": {
      "name": "2017130715_송준석_프로젝트.ipynb",
      "provenance": [],
      "collapsed_sections": []
    },
    "kernelspec": {
      "name": "python3",
      "display_name": "Python 3"
    },
    "language_info": {
      "name": "python"
    }
  },
  "cells": [
    {
      "cell_type": "markdown",
      "source": [
        "#1. 실험요약\n",
        "UCI Machine Learning Repository에 있는 Mushroom datdaset에 대하여, ML 모델들이 Mushroom dataset의 feature들을 가지고 Edible한 mushroom인지 Poisonous한 mushroom인지 구분해낼 수 있는 지를 실험해보았습니다. 실험에는 Decision Tree, Regression, MLP, KNeighborsClassifier, RandomForest 총 5가지 모델을 이용했습니다."
      ],
      "metadata": {
        "id": "lT1L9g_D9fO1"
      }
    },
    {
      "cell_type": "markdown",
      "source": [
        "#2. 라이브러리 선언"
      ],
      "metadata": {
        "id": "d3fruWQv-HPW"
      }
    },
    {
      "cell_type": "code",
      "source": [
        "import pandas as pd\n",
        "from IPython.display import Image\n",
        "import pydotplus\n",
        "from sklearn.model_selection import train_test_split, cross_val_score\n",
        "from sklearn.tree import DecisionTreeClassifier, export_graphviz\n",
        "from sklearn.feature_selection import SelectKBest, chi2, SelectFromModel\n",
        "from sklearn.linear_model import LogisticRegression, LinearRegression\n",
        "from sklearn.neighbors import KNeighborsClassifier\n",
        "from sklearn.neural_network import MLPClassifier\n",
        "import matplotlib.pyplot as plt\n",
        "from sklearn.metrics import confusion_matrix, plot_confusion_matrix\n",
        "from io import StringIO\n",
        "from IPython.display import Image  \n",
        "import pydotplus\n",
        "from sklearn.ensemble import RandomForestClassifier"
      ],
      "metadata": {
        "id": "bFXpoViOMQVK"
      },
      "execution_count": 107,
      "outputs": []
    },
    {
      "cell_type": "markdown",
      "source": [
        "#3. 선정한 데이터\n",
        "선정한 Dataset: Mushroom\n",
        "\n",
        "https://archive.ics.uci.edu/ml/datasets/Mushroom\n",
        "\n",
        "위의 URL에 있는 dataset을 다운받아 feature들을 naming한 후 csv파일로 변환하여 github업로드 하였고, 이를 불러오는 식으로 데이터셋을 가져왔습니다."
      ],
      "metadata": {
        "id": "pExq-VWb-R9N"
      }
    },
    {
      "cell_type": "code",
      "execution_count": 24,
      "metadata": {
        "id": "d7ssoUwn-QTJ"
      },
      "outputs": [],
      "source": [
        "url = \"https://raw.githubusercontent.com/2017130715/class2021Fall/main/mushroom.csv\"\n",
        "data = pd.read_csv(url)"
      ]
    },
    {
      "cell_type": "markdown",
      "source": [
        "##3-1. 데이터셋 분석\n",
        "\n",
        "선정한 데이터셋은 Agaricus종과 Lepiota종에 속해 있는 버섯들에 대한 데이터입니다.\n",
        "\n",
        "데이터들의 feature는 다음과 같습니다.\n",
        "\n",
        "0. Edible(식용 가능 여부): Edible=e, Poisonous=p\n",
        "1. cap-shape(갓 모양): bell=b,conical=c,convex=x,flat=f, knobbed=k,sunken=s\n",
        "2. cap-surface(갓 표면): fibrous=f,grooves=g,scaly=y,smooth=s\n",
        "3. cap-color(갓 색깔): brown=n,buff=b,cinnamon=c,gray=g,green=r, pink=p,purple=u,red=e,white=w,yellow=y\n",
        "4. bruises(멍자국 유무): bruises=t,no=f\n",
        "5. odo(향): almond=a,anise=l,creosote=c,fishy=y,foul=f, musty=m,none=n,pungent=p,spicy=s\n",
        "6. gill-attachment(주름살 부착상태): attached=a,descending=d,free=f,notched=n\n",
        "7. gill-spacing(주름살 분포): close=c,crowded=w,distant=d\n",
        "8. gill-size(주름살 크기): broad=b,narrow=n\n",
        "9. gill-color(주름살 색깔): black=k,brown=n,buff=b,chocolate=h,gray=g, green=r,orange=o,pink=p,purple=u,red=e, white=w,yellow=y\n",
        "10. stalk-shape(줄기모양): enlarging=e,tapering=t\n",
        "11. stalk-root(줄기~뿌리): bulbous=b,club=c,cup=u,equal=e, rhizomorphs=z,rooted=r,missing=?\n",
        "12. stalk-surface-above-ring(턱받이 위 줄기 표면): fibrous=f,scaly=y,silky=k,smooth=s\n",
        "13. stalk-surface-below-ring(턱받이 아래 줄기 표면): fibrous=f,scaly=y,silky=k,smooth=s\n",
        "14. stalk-color-above-ring(턱받이 위 줄기 색깔): brown=n,buff=b,cinnamon=c,gray=g,orange=o, pink=p,red=e,white=w,yellow=y\n",
        "15. stalk-color-below-ring(턱받이 아래 줄기 색깔): brown=n,buff=b,cinnamon=c,gray=g,orange=o, pink=p,red=e,white=w,yellow=y\n",
        "16. veil-type(갓 덮개 타입): partial=p,universal=u\n",
        "17. veil-color(갓 덮개 색): brown=n,orange=o,white=w,yellow=y\n",
        "18. ring-number(턱받이 수): none=n,one=o,two=t\n",
        "19. ring-type(턱받이 타입): cobwebby=c,evanescent=e,flaring=f,large=l, none=n,pendant=p,sheathing=s,zone=z\n",
        "20. spore-print-color(포자 색): black=k,brown=n,buff=b,chocolate=h,green=r, orange=o,purple=u,white=w,yellow=y\n",
        "21. population(개체 수): abundant=a,clustered=c,numerous=n, scattered=s,several=v,solitary=y\n",
        "22. habitat(서식지): grasses=g,leaves=l,meadows=m,paths=p, urban=u,waste=w,woods=d\n",
        "\n",
        "ML 모델들이 위와 같은 데이터셋에 대하여 edible한지, poisonous한지 구분할 수 있는가에 실험의 목적이 있기 때문에 output에 해당하는 feature는 Edible, 그 외 나머지 feature들을 input에 해당합니다.\n",
        "\n",
        "\n"
      ],
      "metadata": {
        "id": "yMNkZh99_VH0"
      }
    },
    {
      "cell_type": "markdown",
      "source": [
        "##3-2. 데이터 전처리\n",
        "\n",
        "Feature들의 type이 object이기 때문에 정수형으로 encoding을 진행합니다."
      ],
      "metadata": {
        "id": "C9PfzLTP-273"
      }
    },
    {
      "cell_type": "code",
      "source": [
        "data.dtypes"
      ],
      "metadata": {
        "colab": {
          "base_uri": "https://localhost:8080/"
        },
        "id": "CTldCb_sCkPE",
        "outputId": "21b8ffc5-1919-4268-ac4a-9a13f228921e"
      },
      "execution_count": 25,
      "outputs": [
        {
          "output_type": "execute_result",
          "data": {
            "text/plain": [
              "Edible                      object\n",
              "cap_shape                   object\n",
              "cap_surface                 object\n",
              "cap_color                   object\n",
              "bruises                     object\n",
              "oder                        object\n",
              "gill_attachment             object\n",
              "gill_spacing                object\n",
              "gill_size                   object\n",
              "gill_color                  object\n",
              "stalk_shape                 object\n",
              "stalk_root                  object\n",
              "stalk_surface_above_ring    object\n",
              "stalk_surface_below_ring    object\n",
              "stalk_color_above_ring      object\n",
              "stalk_color_below_ring      object\n",
              "veil_type                   object\n",
              "veil_color                  object\n",
              "ring_number                 object\n",
              "ring_type                   object\n",
              "spore_print_color           object\n",
              "population                  object\n",
              "habitat                     object\n",
              "dtype: object"
            ]
          },
          "metadata": {},
          "execution_count": 25
        }
      ]
    },
    {
      "cell_type": "code",
      "source": [
        "from sklearn.preprocessing import LabelEncoder\n",
        "le = LabelEncoder()\n",
        "data.Edible = le.fit_transform(data.Edible)\n",
        "data.cap_shape = le.fit_transform(data.cap_shape)\n",
        "data.cap_surface = le.fit_transform(data.cap_surface)\n",
        "data.cap_color = le.fit_transform(data.cap_color)\n",
        "data.bruises = le.fit_transform(data.bruises)\n",
        "data.oder = le.fit_transform(data.oder)\n",
        "data.gill_attachment = le.fit_transform(data.gill_attachment)\n",
        "data.gill_spacing = le.fit_transform(data.gill_spacing)\n",
        "data.gill_size = le.fit_transform(data.gill_size)\n",
        "data.gill_color = le.fit_transform(data.gill_color)\n",
        "data.stalk_shape = le.fit_transform(data.stalk_shape)\n",
        "data.stalk_root = le.fit_transform(data.stalk_root)\n",
        "data.stalk_surface_above_ring = le.fit_transform(data.stalk_surface_above_ring)\n",
        "data.stalk_surface_below_ring = le.fit_transform(data.stalk_surface_below_ring)\n",
        "data.stalk_color_above_ring = le.fit_transform(data.stalk_color_above_ring)\n",
        "data.stalk_color_below_ring = le.fit_transform(data.stalk_color_below_ring)\n",
        "data.veil_type = le.fit_transform(data.veil_type)\n",
        "data.veil_color = le.fit_transform(data.veil_color)\n",
        "data.ring_number = le.fit_transform(data.ring_number)\n",
        "data.ring_type = le.fit_transform(data.ring_type)\n",
        "data.spore_print_color = le.fit_transform(data.spore_print_color)\n",
        "data.population = le.fit_transform(data.population)\n",
        "data.habitat = le.fit_transform(data.habitat)\n"
      ],
      "metadata": {
        "id": "9bL7rcn8HbXg"
      },
      "execution_count": 26,
      "outputs": []
    },
    {
      "cell_type": "code",
      "source": [
        "data.dtypes"
      ],
      "metadata": {
        "colab": {
          "base_uri": "https://localhost:8080/"
        },
        "id": "PMzpYukCCoMd",
        "outputId": "f8e20b29-54af-4459-9444-0cf61697a31c"
      },
      "execution_count": 27,
      "outputs": [
        {
          "output_type": "execute_result",
          "data": {
            "text/plain": [
              "Edible                      int64\n",
              "cap_shape                   int64\n",
              "cap_surface                 int64\n",
              "cap_color                   int64\n",
              "bruises                     int64\n",
              "oder                        int64\n",
              "gill_attachment             int64\n",
              "gill_spacing                int64\n",
              "gill_size                   int64\n",
              "gill_color                  int64\n",
              "stalk_shape                 int64\n",
              "stalk_root                  int64\n",
              "stalk_surface_above_ring    int64\n",
              "stalk_surface_below_ring    int64\n",
              "stalk_color_above_ring      int64\n",
              "stalk_color_below_ring      int64\n",
              "veil_type                   int64\n",
              "veil_color                  int64\n",
              "ring_number                 int64\n",
              "ring_type                   int64\n",
              "spore_print_color           int64\n",
              "population                  int64\n",
              "habitat                     int64\n",
              "dtype: object"
            ]
          },
          "metadata": {},
          "execution_count": 27
        }
      ]
    },
    {
      "cell_type": "code",
      "source": [
        "#데이터에 NULL값이 있는지 확인합니다.\n",
        "data.isnull().any()"
      ],
      "metadata": {
        "colab": {
          "base_uri": "https://localhost:8080/"
        },
        "id": "KVviVLgiDU81",
        "outputId": "25842cd0-7b27-46a4-9f13-5b9275892826"
      },
      "execution_count": 28,
      "outputs": [
        {
          "output_type": "execute_result",
          "data": {
            "text/plain": [
              "Edible                      False\n",
              "cap_shape                   False\n",
              "cap_surface                 False\n",
              "cap_color                   False\n",
              "bruises                     False\n",
              "oder                        False\n",
              "gill_attachment             False\n",
              "gill_spacing                False\n",
              "gill_size                   False\n",
              "gill_color                  False\n",
              "stalk_shape                 False\n",
              "stalk_root                  False\n",
              "stalk_surface_above_ring    False\n",
              "stalk_surface_below_ring    False\n",
              "stalk_color_above_ring      False\n",
              "stalk_color_below_ring      False\n",
              "veil_type                   False\n",
              "veil_color                  False\n",
              "ring_number                 False\n",
              "ring_type                   False\n",
              "spore_print_color           False\n",
              "population                  False\n",
              "habitat                     False\n",
              "dtype: bool"
            ]
          },
          "metadata": {},
          "execution_count": 28
        }
      ]
    },
    {
      "cell_type": "code",
      "source": [
        "data.head()"
      ],
      "metadata": {
        "colab": {
          "base_uri": "https://localhost:8080/",
          "height": 265
        },
        "id": "A5WZ2ISEH5ND",
        "outputId": "38661f63-a5cc-4c86-9490-285e678396dc"
      },
      "execution_count": 8,
      "outputs": [
        {
          "output_type": "execute_result",
          "data": {
            "text/html": [
              "\n",
              "  <div id=\"df-8dd89eca-dcc0-4942-861d-1148fd01dcda\">\n",
              "    <div class=\"colab-df-container\">\n",
              "      <div>\n",
              "<style scoped>\n",
              "    .dataframe tbody tr th:only-of-type {\n",
              "        vertical-align: middle;\n",
              "    }\n",
              "\n",
              "    .dataframe tbody tr th {\n",
              "        vertical-align: top;\n",
              "    }\n",
              "\n",
              "    .dataframe thead th {\n",
              "        text-align: right;\n",
              "    }\n",
              "</style>\n",
              "<table border=\"1\" class=\"dataframe\">\n",
              "  <thead>\n",
              "    <tr style=\"text-align: right;\">\n",
              "      <th></th>\n",
              "      <th>Edible</th>\n",
              "      <th>cap_shape</th>\n",
              "      <th>cap_surface</th>\n",
              "      <th>cap_color</th>\n",
              "      <th>bruises</th>\n",
              "      <th>oder</th>\n",
              "      <th>gill_attachment</th>\n",
              "      <th>gill_spacing</th>\n",
              "      <th>gill_size</th>\n",
              "      <th>gill_color</th>\n",
              "      <th>stalk_shape</th>\n",
              "      <th>stalk_root</th>\n",
              "      <th>stalk_surface_above_ring</th>\n",
              "      <th>stalk_surface_below_ring</th>\n",
              "      <th>stalk_color_above_ring</th>\n",
              "      <th>stalk_color_below_ring</th>\n",
              "      <th>veil_type</th>\n",
              "      <th>veil_color</th>\n",
              "      <th>ring_number</th>\n",
              "      <th>ring_type</th>\n",
              "      <th>spore_print_color</th>\n",
              "      <th>population</th>\n",
              "      <th>habitat</th>\n",
              "    </tr>\n",
              "  </thead>\n",
              "  <tbody>\n",
              "    <tr>\n",
              "      <th>0</th>\n",
              "      <td>1</td>\n",
              "      <td>5</td>\n",
              "      <td>2</td>\n",
              "      <td>4</td>\n",
              "      <td>1</td>\n",
              "      <td>6</td>\n",
              "      <td>1</td>\n",
              "      <td>0</td>\n",
              "      <td>1</td>\n",
              "      <td>4</td>\n",
              "      <td>0</td>\n",
              "      <td>3</td>\n",
              "      <td>2</td>\n",
              "      <td>2</td>\n",
              "      <td>7</td>\n",
              "      <td>7</td>\n",
              "      <td>0</td>\n",
              "      <td>2</td>\n",
              "      <td>1</td>\n",
              "      <td>4</td>\n",
              "      <td>2</td>\n",
              "      <td>3</td>\n",
              "      <td>5</td>\n",
              "    </tr>\n",
              "    <tr>\n",
              "      <th>1</th>\n",
              "      <td>0</td>\n",
              "      <td>5</td>\n",
              "      <td>2</td>\n",
              "      <td>9</td>\n",
              "      <td>1</td>\n",
              "      <td>0</td>\n",
              "      <td>1</td>\n",
              "      <td>0</td>\n",
              "      <td>0</td>\n",
              "      <td>4</td>\n",
              "      <td>0</td>\n",
              "      <td>2</td>\n",
              "      <td>2</td>\n",
              "      <td>2</td>\n",
              "      <td>7</td>\n",
              "      <td>7</td>\n",
              "      <td>0</td>\n",
              "      <td>2</td>\n",
              "      <td>1</td>\n",
              "      <td>4</td>\n",
              "      <td>3</td>\n",
              "      <td>2</td>\n",
              "      <td>1</td>\n",
              "    </tr>\n",
              "    <tr>\n",
              "      <th>2</th>\n",
              "      <td>0</td>\n",
              "      <td>0</td>\n",
              "      <td>2</td>\n",
              "      <td>8</td>\n",
              "      <td>1</td>\n",
              "      <td>3</td>\n",
              "      <td>1</td>\n",
              "      <td>0</td>\n",
              "      <td>0</td>\n",
              "      <td>5</td>\n",
              "      <td>0</td>\n",
              "      <td>2</td>\n",
              "      <td>2</td>\n",
              "      <td>2</td>\n",
              "      <td>7</td>\n",
              "      <td>7</td>\n",
              "      <td>0</td>\n",
              "      <td>2</td>\n",
              "      <td>1</td>\n",
              "      <td>4</td>\n",
              "      <td>3</td>\n",
              "      <td>2</td>\n",
              "      <td>3</td>\n",
              "    </tr>\n",
              "    <tr>\n",
              "      <th>3</th>\n",
              "      <td>1</td>\n",
              "      <td>5</td>\n",
              "      <td>3</td>\n",
              "      <td>8</td>\n",
              "      <td>1</td>\n",
              "      <td>6</td>\n",
              "      <td>1</td>\n",
              "      <td>0</td>\n",
              "      <td>1</td>\n",
              "      <td>5</td>\n",
              "      <td>0</td>\n",
              "      <td>3</td>\n",
              "      <td>2</td>\n",
              "      <td>2</td>\n",
              "      <td>7</td>\n",
              "      <td>7</td>\n",
              "      <td>0</td>\n",
              "      <td>2</td>\n",
              "      <td>1</td>\n",
              "      <td>4</td>\n",
              "      <td>2</td>\n",
              "      <td>3</td>\n",
              "      <td>5</td>\n",
              "    </tr>\n",
              "    <tr>\n",
              "      <th>4</th>\n",
              "      <td>0</td>\n",
              "      <td>5</td>\n",
              "      <td>2</td>\n",
              "      <td>3</td>\n",
              "      <td>0</td>\n",
              "      <td>5</td>\n",
              "      <td>1</td>\n",
              "      <td>1</td>\n",
              "      <td>0</td>\n",
              "      <td>4</td>\n",
              "      <td>1</td>\n",
              "      <td>3</td>\n",
              "      <td>2</td>\n",
              "      <td>2</td>\n",
              "      <td>7</td>\n",
              "      <td>7</td>\n",
              "      <td>0</td>\n",
              "      <td>2</td>\n",
              "      <td>1</td>\n",
              "      <td>0</td>\n",
              "      <td>3</td>\n",
              "      <td>0</td>\n",
              "      <td>1</td>\n",
              "    </tr>\n",
              "  </tbody>\n",
              "</table>\n",
              "</div>\n",
              "      <button class=\"colab-df-convert\" onclick=\"convertToInteractive('df-8dd89eca-dcc0-4942-861d-1148fd01dcda')\"\n",
              "              title=\"Convert this dataframe to an interactive table.\"\n",
              "              style=\"display:none;\">\n",
              "        \n",
              "  <svg xmlns=\"http://www.w3.org/2000/svg\" height=\"24px\"viewBox=\"0 0 24 24\"\n",
              "       width=\"24px\">\n",
              "    <path d=\"M0 0h24v24H0V0z\" fill=\"none\"/>\n",
              "    <path d=\"M18.56 5.44l.94 2.06.94-2.06 2.06-.94-2.06-.94-.94-2.06-.94 2.06-2.06.94zm-11 1L8.5 8.5l.94-2.06 2.06-.94-2.06-.94L8.5 2.5l-.94 2.06-2.06.94zm10 10l.94 2.06.94-2.06 2.06-.94-2.06-.94-.94-2.06-.94 2.06-2.06.94z\"/><path d=\"M17.41 7.96l-1.37-1.37c-.4-.4-.92-.59-1.43-.59-.52 0-1.04.2-1.43.59L10.3 9.45l-7.72 7.72c-.78.78-.78 2.05 0 2.83L4 21.41c.39.39.9.59 1.41.59.51 0 1.02-.2 1.41-.59l7.78-7.78 2.81-2.81c.8-.78.8-2.07 0-2.86zM5.41 20L4 18.59l7.72-7.72 1.47 1.35L5.41 20z\"/>\n",
              "  </svg>\n",
              "      </button>\n",
              "      \n",
              "  <style>\n",
              "    .colab-df-container {\n",
              "      display:flex;\n",
              "      flex-wrap:wrap;\n",
              "      gap: 12px;\n",
              "    }\n",
              "\n",
              "    .colab-df-convert {\n",
              "      background-color: #E8F0FE;\n",
              "      border: none;\n",
              "      border-radius: 50%;\n",
              "      cursor: pointer;\n",
              "      display: none;\n",
              "      fill: #1967D2;\n",
              "      height: 32px;\n",
              "      padding: 0 0 0 0;\n",
              "      width: 32px;\n",
              "    }\n",
              "\n",
              "    .colab-df-convert:hover {\n",
              "      background-color: #E2EBFA;\n",
              "      box-shadow: 0px 1px 2px rgba(60, 64, 67, 0.3), 0px 1px 3px 1px rgba(60, 64, 67, 0.15);\n",
              "      fill: #174EA6;\n",
              "    }\n",
              "\n",
              "    [theme=dark] .colab-df-convert {\n",
              "      background-color: #3B4455;\n",
              "      fill: #D2E3FC;\n",
              "    }\n",
              "\n",
              "    [theme=dark] .colab-df-convert:hover {\n",
              "      background-color: #434B5C;\n",
              "      box-shadow: 0px 1px 3px 1px rgba(0, 0, 0, 0.15);\n",
              "      filter: drop-shadow(0px 1px 2px rgba(0, 0, 0, 0.3));\n",
              "      fill: #FFFFFF;\n",
              "    }\n",
              "  </style>\n",
              "\n",
              "      <script>\n",
              "        const buttonEl =\n",
              "          document.querySelector('#df-8dd89eca-dcc0-4942-861d-1148fd01dcda button.colab-df-convert');\n",
              "        buttonEl.style.display =\n",
              "          google.colab.kernel.accessAllowed ? 'block' : 'none';\n",
              "\n",
              "        async function convertToInteractive(key) {\n",
              "          const element = document.querySelector('#df-8dd89eca-dcc0-4942-861d-1148fd01dcda');\n",
              "          const dataTable =\n",
              "            await google.colab.kernel.invokeFunction('convertToInteractive',\n",
              "                                                     [key], {});\n",
              "          if (!dataTable) return;\n",
              "\n",
              "          const docLinkHtml = 'Like what you see? Visit the ' +\n",
              "            '<a target=\"_blank\" href=https://colab.research.google.com/notebooks/data_table.ipynb>data table notebook</a>'\n",
              "            + ' to learn more about interactive tables.';\n",
              "          element.innerHTML = '';\n",
              "          dataTable['output_type'] = 'display_data';\n",
              "          await google.colab.output.renderOutput(dataTable, element);\n",
              "          const docLink = document.createElement('div');\n",
              "          docLink.innerHTML = docLinkHtml;\n",
              "          element.appendChild(docLink);\n",
              "        }\n",
              "      </script>\n",
              "    </div>\n",
              "  </div>\n",
              "  "
            ],
            "text/plain": [
              "   Edible  cap_shape  cap_surface  ...  spore_print_color  population  habitat\n",
              "0       1          5            2  ...                  2           3        5\n",
              "1       0          5            2  ...                  3           2        1\n",
              "2       0          0            2  ...                  3           2        3\n",
              "3       1          5            3  ...                  2           3        5\n",
              "4       0          5            2  ...                  3           0        1\n",
              "\n",
              "[5 rows x 23 columns]"
            ]
          },
          "metadata": {},
          "execution_count": 8
        }
      ]
    },
    {
      "cell_type": "code",
      "source": [
        "#데이터를 Label(y)와 Feature들(x)로 나눠줍니다.\n",
        "y = data[['Edible']]\n",
        "x = data.drop(columns=['Edible'])\n",
        "\n",
        "#데이터를 train data와 test data로 나눠줍니다.\n",
        "x_train, x_test, y_train, y_test = train_test_split(x, y, test_size=.3, random_state=42)"
      ],
      "metadata": {
        "id": "eXhhSYCDLw0U"
      },
      "execution_count": 9,
      "outputs": []
    },
    {
      "cell_type": "markdown",
      "source": [
        "#4. 실험"
      ],
      "metadata": {
        "id": "9-SqMZzSEaeU"
      }
    },
    {
      "cell_type": "markdown",
      "source": [
        "##4-1. Decision Tree\n",
        "\n",
        "###모델 선정 이유\n",
        "\n",
        "대표적인 classification model 중 하나인 Decision Tree가 주어진 feature들을 활용하여 edible한 mushroom을 구분할 수 있는지 확인하고자 하였습니다."
      ],
      "metadata": {
        "id": "feIiO1e_EcCd"
      }
    },
    {
      "cell_type": "markdown",
      "source": [
        "###실험 진행"
      ],
      "metadata": {
        "id": "LEisl1HEGG-0"
      }
    },
    {
      "cell_type": "code",
      "source": [
        "#DT 모델 생성\n",
        "dt1 = DecisionTreeClassifier(random_state=42)\n",
        "\n",
        "#생성한 model에 대해 train data를 적용하고, 결과에 대한 cv score를 출력합니다.\n",
        "print('score:', cross_val_score(dt1, x_train, y_train, cv=5).mean())"
      ],
      "metadata": {
        "colab": {
          "base_uri": "https://localhost:8080/"
        },
        "id": "EZ1MfTA-G0mT",
        "outputId": "a7760ef4-d1e9-42af-b81d-c9019bf3c470"
      },
      "execution_count": 64,
      "outputs": [
        {
          "output_type": "stream",
          "name": "stdout",
          "text": [
            "score: 1.0\n"
          ]
        }
      ]
    },
    {
      "cell_type": "markdown",
      "source": [
        "DT Classifier가 주어진 데이터셋에 대해 default parameter만을 가지고도 완벽한 분류를 한다는 결과가 도출되었습니다. 그래도 parameter가 변경됨에 따라 어떻게 결과가 바뀌는지에 대해 알아보고자 parameter를 변경해가며 cv score를 산출해보았습니다."
      ],
      "metadata": {
        "id": "mqqLFpG8m1eq"
      }
    },
    {
      "cell_type": "code",
      "source": [
        "dt2 = DecisionTreeClassifier(random_state=42, max_leaf_nodes=50)\n",
        "print('score:', cross_val_score(dt2, x_train, y_train, cv=5).mean())\n",
        "\n",
        "dt3 = DecisionTreeClassifier(random_state=42, min_impurity_decrease=0.0004)\n",
        "print('score:', cross_val_score(dt3, x_train, y_train, cv=5).mean())\n",
        "\n",
        "dt4 = DecisionTreeClassifier(random_state=42, max_depth=15)\n",
        "print('score:', cross_val_score(dt4, x_train, y_train, cv=5).mean())"
      ],
      "metadata": {
        "colab": {
          "base_uri": "https://localhost:8080/"
        },
        "id": "Kgvnbinemwy6",
        "outputId": "f17562f9-d072-491e-ef3e-589d4ee3ee67"
      },
      "execution_count": 92,
      "outputs": [
        {
          "output_type": "stream",
          "name": "stdout",
          "text": [
            "score: 1.0\n",
            "score: 1.0\n",
            "score: 1.0\n"
          ]
        }
      ]
    },
    {
      "cell_type": "markdown",
      "source": [
        "조정된 parameter에 대해서도 같은 결과를 보입니다. 다음으로는 feature selection을 한 후 적용시켜보았습니다."
      ],
      "metadata": {
        "id": "YpQwbdJbnsbj"
      }
    },
    {
      "cell_type": "markdown",
      "source": [
        "###Feature selection"
      ],
      "metadata": {
        "id": "UIBRe6iGrD85"
      }
    },
    {
      "cell_type": "code",
      "source": [
        "#k-best feature selection\n",
        "x_train_dt1_kbest1 = SelectKBest(chi2, k=3).fit_transform(x_train, y_train)\n",
        "print('score', cross_val_score(dt1, x_train_dt1_kbest1, y_train, cv=5).mean())\n",
        "\n",
        "x_train_dt1_kbest2 = SelectKBest(chi2, k=5).fit_transform(x_train, y_train)\n",
        "print('score', cross_val_score(dt1, x_train_dt1_kbest2, y_train, cv=5).mean())\n",
        "\n",
        "x_train_dt1_kbest3 = SelectKBest(chi2, k=8).fit_transform(x_train, y_train)\n",
        "print('score', cross_val_score(dt1, x_train_dt1_kbest3, y_train, cv=5).mean())"
      ],
      "metadata": {
        "colab": {
          "base_uri": "https://localhost:8080/"
        },
        "id": "1MKSay2Sn1vx",
        "outputId": "a6ffee25-afcb-461f-cb9f-ad53c3175c69"
      },
      "execution_count": 136,
      "outputs": [
        {
          "output_type": "stream",
          "name": "stdout",
          "text": [
            "score 0.9444234743482138\n",
            "score 0.9718602433252492\n",
            "score 1.0\n"
          ]
        }
      ]
    },
    {
      "cell_type": "code",
      "source": [
        "#모델 기반 feature selection\n",
        "select_dt1 = SelectFromModel(dt1, threshold='median')\n",
        "select_dt1.fit(x_train, y_train)\n",
        "x_train_dt1 = select.transform(x_train)\n",
        "print('score', cross_val_score(dt1, x_train_dt1, y_train, cv=5).mean())"
      ],
      "metadata": {
        "colab": {
          "base_uri": "https://localhost:8080/"
        },
        "id": "VIlYHHsxn4aj",
        "outputId": "e446f020-3a15-4891-a2af-6ebe6707cf30"
      },
      "execution_count": 95,
      "outputs": [
        {
          "output_type": "stream",
          "name": "stdout",
          "text": [
            "score 0.9957794461112321\n"
          ]
        }
      ]
    },
    {
      "cell_type": "markdown",
      "source": [
        "feature selection을 적용한 경우, 모델의 성능이 낮아지는 것을 관찰할 수 있었습니다."
      ],
      "metadata": {
        "id": "48gxTrkDoJcJ"
      }
    },
    {
      "cell_type": "markdown",
      "source": [
        "###결과"
      ],
      "metadata": {
        "id": "z8DQ7gJoP55k"
      }
    },
    {
      "cell_type": "code",
      "source": [
        "#모델을 fit\n",
        "dt1.fit(x_train, y_train)\n",
        "print('accuracy:', dt1.score(x_test, y_test))\n",
        "\n",
        "#confusion matrix 출력\n",
        "y_pred_dt1 = dt1.predict(x_test)\n",
        "confusion_matrix(y_test, y_pred_dt1)\n",
        "plot_confusion_matrix(dt1, x_test, y_test, normalize='all')"
      ],
      "metadata": {
        "colab": {
          "base_uri": "https://localhost:8080/",
          "height": 370
        },
        "id": "K5QmXFXgMwdk",
        "outputId": "a29dae86-2e4f-44f6-dc3b-33cc6fec0ded"
      },
      "execution_count": 58,
      "outputs": [
        {
          "output_type": "stream",
          "name": "stdout",
          "text": [
            "accuracy: 1.0\n"
          ]
        },
        {
          "output_type": "stream",
          "name": "stderr",
          "text": [
            "/usr/local/lib/python3.7/dist-packages/sklearn/utils/deprecation.py:87: FutureWarning: Function plot_confusion_matrix is deprecated; Function `plot_confusion_matrix` is deprecated in 1.0 and will be removed in 1.2. Use one of the class methods: ConfusionMatrixDisplay.from_predictions or ConfusionMatrixDisplay.from_estimator.\n",
            "  warnings.warn(msg, category=FutureWarning)\n"
          ]
        },
        {
          "output_type": "execute_result",
          "data": {
            "text/plain": [
              "<sklearn.metrics._plot.confusion_matrix.ConfusionMatrixDisplay at 0x7f6a4e5e3b50>"
            ]
          },
          "metadata": {},
          "execution_count": 58
        },
        {
          "output_type": "display_data",
          "data": {
            "image/png": "[encoded data removed]",
            "text/plain": [
              "<Figure size 432x288 with 2 Axes>"
            ]
          },
          "metadata": {
            "needs_background": "light"
          }
        }
      ]
    },
    {
      "cell_type": "code",
      "source": [
        "#해당 DT가 어떻게 구성되었는지 출력해보았습니다.\n",
        "dot_data = StringIO()\n",
        "export_graphviz(dt1, feature_names=x_train.columns, out_file=dot_data)\n",
        "graph = pydotplus.graph_from_dot_data(dot_data.getvalue())\n",
        "graph.write_png('/tree.png')\n",
        "Image(graph.create_png())"
      ],
      "metadata": {
        "colab": {
          "base_uri": "https://localhost:8080/",
          "height": 1000
        },
        "id": "cMR98M8eQC2L",
        "outputId": "3dba674a-16bc-4f28-d19c-5ce721faaad6"
      },
      "execution_count": 62,
      "outputs": [
        {
          "output_type": "execute_result",
          "data": {
            "image/png": "[encoded data removed]",
            "text/plain": [
              "<IPython.core.display.Image object>"
            ]
          },
          "metadata": {},
          "execution_count": 62
        }
      ]
    },
    {
      "cell_type": "markdown",
      "source": [
        "##4-2. LogisticRegression\n",
        "\n",
        "###모델 선정 이유\n",
        "\n",
        "Regression model중에서 classify 기능을 담고 있는 logistic regression이 해당 데이터에 대해 어느정도의 성능을 보이는지 확인하고자 하였습니다."
      ],
      "metadata": {
        "id": "FPBq6J-MQ6fs"
      }
    },
    {
      "cell_type": "markdown",
      "source": [
        "###실험 진행"
      ],
      "metadata": {
        "id": "pQx4ZdO_s_tp"
      }
    },
    {
      "cell_type": "code",
      "source": [
        "#Logistic Regression 모델 생성\n",
        "lr1 = LogisticRegression(max_iter=1000)\n",
        "\n",
        "#생성한 model에 대해 train data를 적용하고, 결과에 대한 cv score를 출력합니다.\n",
        "print('score', cross_val_score(lr1, x_train, y_train.values.ravel(), cv=5).mean())"
      ],
      "metadata": {
        "colab": {
          "base_uri": "https://localhost:8080/"
        },
        "id": "opbEZOKQMAfV",
        "outputId": "f842a330-583e-401b-8d80-88b4791a527e"
      },
      "execution_count": 85,
      "outputs": [
        {
          "output_type": "stream",
          "name": "stdout",
          "text": [
            "score 0.9475886192660055\n"
          ]
        }
      ]
    },
    {
      "cell_type": "markdown",
      "source": [
        "parameter를 조정해가면서 어떤 결과값이 산출되는지 확인해보았습니다."
      ],
      "metadata": {
        "id": "c13qzu-ZtOMS"
      }
    },
    {
      "cell_type": "code",
      "source": [
        "lr2 = LogisticRegression(max_iter=500)\n",
        "print('score', cross_val_score(lr2, x_train, y_train.values.ravel(), cv=5).mean())\n",
        "\n",
        "lr3 = LogisticRegression(max_iter=1500)\n",
        "print('score', cross_val_score(lr3, x_train, y_train.values.ravel(), cv=5).mean())\n",
        "\n",
        "lr4 = LogisticRegression(max_iter=2000)\n",
        "print('score', cross_val_score(lr4, x_train, y_train.values.ravel(), cv=5).mean())\n",
        "\n",
        "lr5 = LogisticRegression(max_iter=2500)\n",
        "print('score', cross_val_score(lr5, x_train, y_train.values.ravel(), cv=5).mean())"
      ],
      "metadata": {
        "colab": {
          "base_uri": "https://localhost:8080/"
        },
        "id": "u4tyR5tGRvWn",
        "outputId": "7a953c6c-327a-4bac-cf2d-dd900c30c22b"
      },
      "execution_count": 67,
      "outputs": [
        {
          "output_type": "stream",
          "name": "stdout",
          "text": [
            "score 0.9475886192660055\n",
            "score 0.9475886192660055\n",
            "score 0.9475886192660055\n",
            "score 0.9475886192660055\n"
          ]
        }
      ]
    },
    {
      "cell_type": "markdown",
      "source": [
        "###Feature selection"
      ],
      "metadata": {
        "id": "K88NWzWuS3Os"
      }
    },
    {
      "cell_type": "markdown",
      "source": [
        "조정된 parameter들에 대해 모두 같은 결과가 나왔고, 이번엔 feature selection을 적용해보았습니다.\n"
      ],
      "metadata": {
        "id": "GFXk5BPxSjV0"
      }
    },
    {
      "cell_type": "code",
      "source": [
        "#k-best feature selection\n",
        "x_train_lr_kbest1 = SelectKBest(chi2, k=3).fit_transform(x_train, y_train.values.ravel())\n",
        "print('score', cross_val_score(lr1, x_train_lr_kbest1, y_train.values.ravel(), cv=5).mean())\n",
        "\n",
        "x_train_lr_kbest2 = SelectKBest(chi2, k=5).fit_transform(x_train, y_train.values.ravel())\n",
        "print('score', cross_val_score(lr1, x_train_lr_kbest2, y_train.values.ravel(), cv=5).mean())\n",
        "\n",
        "x_train_lr_kbest3 = SelectKBest(chi2, k=8).fit_transform(x_train, y_train.values.ravel())\n",
        "print('score', cross_val_score(lr1, x_train_lr_kbest3, y_train.values.ravel(), cv=5).mean())"
      ],
      "metadata": {
        "colab": {
          "base_uri": "https://localhost:8080/"
        },
        "id": "WjgTHV590hKY",
        "outputId": "1eb77e88-3e3e-445d-bcaf-35a789edffc0"
      },
      "execution_count": 137,
      "outputs": [
        {
          "output_type": "stream",
          "name": "stdout",
          "text": [
            "score 0.7650357908534314\n",
            "score 0.8061922581702226\n",
            "score 0.9224387242968192\n"
          ]
        }
      ]
    },
    {
      "cell_type": "code",
      "source": [
        "#모델 기반 feature selection\n",
        "select_lr = SelectFromModel(lr1, threshold='median')\n",
        "select_lr.fit(x_train, y_train.values.ravel())\n",
        "x_train_lr = select.transform(x_train)\n",
        "print('score', cross_val_score(lr1, x_train_lr, y_train.values.ravel(), cv=5).mean())"
      ],
      "metadata": {
        "colab": {
          "base_uri": "https://localhost:8080/"
        },
        "id": "ZzURZtK9S2IL",
        "outputId": "df617853-80e6-4e52-d608-ebbb9fc5ef20"
      },
      "execution_count": 82,
      "outputs": [
        {
          "output_type": "stream",
          "name": "stdout",
          "text": [
            "score 0.9467097300731273\n"
          ]
        }
      ]
    },
    {
      "cell_type": "markdown",
      "source": [
        "feature selection을 적용한 결과, 전반적으로 model의 성능이 낮아진 것을 관찰할 수 있었습니다."
      ],
      "metadata": {
        "id": "gCvaz_UFVQ1U"
      }
    },
    {
      "cell_type": "markdown",
      "source": [
        "###결과"
      ],
      "metadata": {
        "id": "9sdcRO4qkTGn"
      }
    },
    {
      "cell_type": "code",
      "source": [
        "#모델을 fit\n",
        "lr1.fit(x_train, y_train.values.ravel())\n",
        "print('accuracy:', lr1.score(x_test, y_test.values.ravel()))\n",
        "\n",
        "#confusion matrix 출력\n",
        "y_pred_lr1 = lr1.predict(x_test)\n",
        "confusion_matrix(y_test, y_pred_lr1)\n",
        "plot_confusion_matrix(lr1, x_test, y_test.values.ravel(), normalize='all')"
      ],
      "metadata": {
        "colab": {
          "base_uri": "https://localhost:8080/",
          "height": 370
        },
        "id": "cE4A7AiPkU0I",
        "outputId": "c09a3f62-409d-4dad-8a2f-c36c50d46c82"
      },
      "execution_count": 116,
      "outputs": [
        {
          "output_type": "stream",
          "name": "stdout",
          "text": [
            "accuracy: 0.9491386382280558\n"
          ]
        },
        {
          "output_type": "stream",
          "name": "stderr",
          "text": [
            "/usr/local/lib/python3.7/dist-packages/sklearn/utils/deprecation.py:87: FutureWarning: Function plot_confusion_matrix is deprecated; Function `plot_confusion_matrix` is deprecated in 1.0 and will be removed in 1.2. Use one of the class methods: ConfusionMatrixDisplay.from_predictions or ConfusionMatrixDisplay.from_estimator.\n",
            "  warnings.warn(msg, category=FutureWarning)\n"
          ]
        },
        {
          "output_type": "execute_result",
          "data": {
            "text/plain": [
              "<sklearn.metrics._plot.confusion_matrix.ConfusionMatrixDisplay at 0x7f6a4c8db790>"
            ]
          },
          "metadata": {},
          "execution_count": 116
        },
        {
          "output_type": "display_data",
          "data": {
            "image/png": "[encoded data removed]",
            "text/plain": [
              "<Figure size 432x288 with 2 Axes>"
            ]
          },
          "metadata": {
            "needs_background": "light"
          }
        }
      ]
    },
    {
      "cell_type": "markdown",
      "source": [
        "##4-3. MLP\n",
        "\n",
        "###모델 선정 이유\n",
        "\n",
        "MLP의 경우 weight와 gradient descent를 사용하는 방식으로, classification 모델로서 좋은 성능을 기대할 수 있는 모델 중 하나입니다. MLP가 mushroom 데이터셋에 대해서도 좋은 성능의 classfication을 할 수 있는지 확인하기 위해 진행하였습니다."
      ],
      "metadata": {
        "id": "RIm0mWrtlAm4"
      }
    },
    {
      "cell_type": "code",
      "source": [
        "#MLP 모델 생성\n",
        "mlp1 = MLPClassifier(random_state=42, max_iter=1000)\n",
        "\n",
        "#생성한 model에 대해 train data를 적용하고, 결과에 대한 cv score를 출력합니다.\n",
        "print('score', cross_val_score(mlp1, x_train, y_train.values.ravel(), cv=5).mean())"
      ],
      "metadata": {
        "colab": {
          "base_uri": "https://localhost:8080/"
        },
        "id": "mHxP-IJnJrzb",
        "outputId": "ccdb4b51-b96b-4995-b889-26f403718b31"
      },
      "execution_count": 101,
      "outputs": [
        {
          "output_type": "stream",
          "name": "stdout",
          "text": [
            "score 1.0\n"
          ]
        }
      ]
    },
    {
      "cell_type": "markdown",
      "source": [
        "MLP model이 주어진 데이터셋에 대해 default parameter만을 가지고도 완벽한 분류를 한다는 결과가 도출되었습니다. 그래도 parameter가 변경됨에 따라 어떻게 결과가 바뀌는지에 대해 알아보고자 parameter를 변경해가며 cv score를 산출해보았습니다."
      ],
      "metadata": {
        "id": "22wsdasnonQK"
      }
    },
    {
      "cell_type": "code",
      "source": [
        "mlp2 = MLPClassifier(random_state=42, hidden_layer_sizes=(40,), max_iter=1000)\n",
        "print('score:', cross_val_score(mlp2, x_train, y_train.values.ravel(), cv=5).mean())\n",
        "\n",
        "mlp3 = MLPClassifier(random_state=42, hidden_layer_sizes=(60,), max_iter=1000)\n",
        "print('score:', cross_val_score(mlp3, x_train, y_train.values.ravel(), cv=5).mean())\n",
        "\n",
        "mlp4 = MLPClassifier(random_state=42, hidden_layer_sizes=(80,), max_iter=1500)\n",
        "print('score:', cross_val_score(mlp4, x_train, y_train.values.ravel(), cv=5).mean())\n",
        "\n",
        "mlp5 = MLPClassifier(random_state=42, hidden_layer_sizes=(90,), max_iter=2000)\n",
        "print('score:', cross_val_score(mlp5, x_train, y_train.values.ravel(), cv=5).mean())"
      ],
      "metadata": {
        "colab": {
          "base_uri": "https://localhost:8080/"
        },
        "id": "DjcLmdD7onVq",
        "outputId": "1c1f6033-f965-4a43-cb2d-5a513e63e7da"
      },
      "execution_count": 98,
      "outputs": [
        {
          "output_type": "stream",
          "name": "stdout",
          "text": [
            "score: 1.0\n",
            "score: 1.0\n",
            "score: 1.0\n",
            "score: 1.0\n"
          ]
        }
      ]
    },
    {
      "cell_type": "markdown",
      "source": [
        "###Feature selection"
      ],
      "metadata": {
        "id": "rnYRaQ65pHLJ"
      }
    },
    {
      "cell_type": "markdown",
      "source": [
        "parameter가 조정된 model들도 완벽한 분류를 해낸다는 결과를 관찰할 수 있었습니다. 다음으로는 위의 다른 model들과 마찬가지로 feature selection도 적용시켜보았습니다."
      ],
      "metadata": {
        "id": "3jse52XKpJbB"
      }
    },
    {
      "cell_type": "code",
      "source": [
        "#k-best feature selection\n",
        "x_train_mlp1_kbest1 = SelectKBest(chi2, k=3).fit_transform(x_train, y_train.values.ravel())\n",
        "print('score', cross_val_score(mlp1, x_train_mlp1_kbest1, y_train.values.ravel(), cv=5).mean())\n",
        "\n",
        "x_train_mlp1_kbest2 = SelectKBest(chi2, k=5).fit_transform(x_train, y_train.values.ravel())\n",
        "print('score', cross_val_score(mlp1, x_train_mlp1_kbest2, y_train.values.ravel(), cv=5).mean())\n",
        "\n",
        "x_train_mlp1_kbest3 = SelectKBest(chi2, k=8).fit_transform(x_train, y_train.values.ravel())\n",
        "print('score', cross_val_score(mlp1, x_train_mlp1_kbest3, y_train.values.ravel(), cv=5).mean())"
      ],
      "metadata": {
        "colab": {
          "base_uri": "https://localhost:8080/"
        },
        "id": "u0O3qVr2p3I7",
        "outputId": "640efe45-e76d-4e37-e069-0539ad731c34"
      },
      "execution_count": 138,
      "outputs": [
        {
          "output_type": "stream",
          "name": "stdout",
          "text": [
            "score 0.9407295429497969\n",
            "score 0.9672868044510189\n",
            "score 1.0\n"
          ]
        }
      ]
    },
    {
      "cell_type": "code",
      "source": [
        "#모델 기반 feature selection\n",
        "select_mlp1 = SelectFromModel(mlp1, threshold='median')\n",
        "select_mlp1.fit(x_train, y_train.values.ravel())\n",
        "x_train_mlp1 = select.transform(x_train)\n",
        "print('score', cross_val_score(mlp1, x_train_mlp1, y_train.values.ravel(), cv=5).mean())"
      ],
      "metadata": {
        "colab": {
          "base_uri": "https://localhost:8080/"
        },
        "id": "FMWV1fjUp5VT",
        "outputId": "73fa3482-7e38-48d1-fa8d-0ecf1bed07aa"
      },
      "execution_count": 103,
      "outputs": [
        {
          "output_type": "stream",
          "name": "stdout",
          "text": [
            "score 0.9943722341499305\n"
          ]
        }
      ]
    },
    {
      "cell_type": "markdown",
      "source": [
        "위의 다른 모델들과 마찬가지로 feature selection을 적용한 경우, 모델의 성능이 낮아지는 것을 관찰할 수 있었습니다."
      ],
      "metadata": {
        "id": "Phse7VrErRuA"
      }
    },
    {
      "cell_type": "markdown",
      "source": [
        "###결과"
      ],
      "metadata": {
        "id": "vkOEx0UjqiKp"
      }
    },
    {
      "cell_type": "code",
      "source": [
        "#모델을 fit\n",
        "mlp1.fit(x_train, y_train.values.ravel())\n",
        "print('accuracy:', mlp1.score(x_test, y_test.values.ravel()))\n",
        "\n",
        "#confusion matrix 출력\n",
        "y_pred_mlp1 = mlp1.predict(x_test)\n",
        "confusion_matrix(y_test, y_pred_mlp1)\n",
        "plot_confusion_matrix(mlp1, x_test, y_test.values.ravel(), normalize='all')"
      ],
      "metadata": {
        "colab": {
          "base_uri": "https://localhost:8080/",
          "height": 370
        },
        "id": "gk00eSJqqjSa",
        "outputId": "f7242499-261f-49d0-a25c-7f8564c8dbf1"
      },
      "execution_count": 115,
      "outputs": [
        {
          "output_type": "stream",
          "name": "stdout",
          "text": [
            "accuracy: 1.0\n"
          ]
        },
        {
          "output_type": "stream",
          "name": "stderr",
          "text": [
            "/usr/local/lib/python3.7/dist-packages/sklearn/utils/deprecation.py:87: FutureWarning: Function plot_confusion_matrix is deprecated; Function `plot_confusion_matrix` is deprecated in 1.0 and will be removed in 1.2. Use one of the class methods: ConfusionMatrixDisplay.from_predictions or ConfusionMatrixDisplay.from_estimator.\n",
            "  warnings.warn(msg, category=FutureWarning)\n"
          ]
        },
        {
          "output_type": "execute_result",
          "data": {
            "text/plain": [
              "<sklearn.metrics._plot.confusion_matrix.ConfusionMatrixDisplay at 0x7f6a4db7d650>"
            ]
          },
          "metadata": {},
          "execution_count": 115
        },
        {
          "output_type": "display_data",
          "data": {
            "image/png": "[encoded data removed]",
            "text/plain": [
              "<Figure size 432x288 with 2 Axes>"
            ]
          },
          "metadata": {
            "needs_background": "light"
          }
        }
      ]
    },
    {
      "cell_type": "markdown",
      "source": [
        "##4-4. KNeighborsClassifier\n",
        "\n",
        "###모델 선정 이유\n",
        "\n",
        "다음으로는 가까운 데이터를 기준으로 데이터를 분류하는 KNeighborsClassifier의 해당 데이터셋에 대한 성능을 확인하고자 하였습니다."
      ],
      "metadata": {
        "id": "gL9hexx47fQw"
      }
    },
    {
      "cell_type": "markdown",
      "source": [
        "###실험 진행"
      ],
      "metadata": {
        "id": "hI1Ng5Us7763"
      }
    },
    {
      "cell_type": "code",
      "source": [
        "#KNN 모델 생성\n",
        "knn1 = KNeighborsClassifier()\n",
        "\n",
        "#생성한 model에 대해 train data를 적용하고, 결과에 대한 cv score를 출력합니다.\n",
        "print('score:', cross_val_score(knn1, x_train, y_train.values.ravel(), cv=5).mean())"
      ],
      "metadata": {
        "colab": {
          "base_uri": "https://localhost:8080/"
        },
        "id": "JfKySFCn7-yV",
        "outputId": "5f1da9ba-c706-4f9a-ecfe-2b5dd625d204"
      },
      "execution_count": 141,
      "outputs": [
        {
          "output_type": "stream",
          "name": "stdout",
          "text": [
            "score: 0.9973616321432933\n"
          ]
        }
      ]
    },
    {
      "cell_type": "markdown",
      "source": [
        "parameter를 조정해가면서 어떤 결과값이 산출되는지 확인해보았습니다."
      ],
      "metadata": {
        "id": "aqAWg4WD8P6x"
      }
    },
    {
      "cell_type": "code",
      "source": [
        "knn2 = KNeighborsClassifier(n_neighbors=6)\n",
        "print('score:', cross_val_score(knn2, x_train, y_train.values.ravel(), cv=5).mean())\n",
        "\n",
        "knn3 = KNeighborsClassifier(n_neighbors=9)\n",
        "print('score:', cross_val_score(knn3, x_train, y_train.values.ravel(), cv=5).mean())\n",
        "\n",
        "knn4 = KNeighborsClassifier(n_neighbors=12)\n",
        "print('score:', cross_val_score(knn3, x_train, y_train.values.ravel(), cv=5).mean())"
      ],
      "metadata": {
        "colab": {
          "base_uri": "https://localhost:8080/"
        },
        "id": "XkVb32zc8QoR",
        "outputId": "268d5f9a-280e-42ef-9b9a-40fa01807abe"
      },
      "execution_count": 143,
      "outputs": [
        {
          "output_type": "stream",
          "name": "stdout",
          "text": [
            "score: 0.9954268702672373\n",
            "score: 0.9941957143718323\n",
            "score: 0.9941957143718323\n"
          ]
        }
      ]
    },
    {
      "cell_type": "markdown",
      "source": [
        "parameter가 조정됨에 따라 성능이 낮아지고, 일정 수준을 넘어가면 동일한 성능을 보이는 것으로 관찰되었습니다."
      ],
      "metadata": {
        "id": "hxzIbpIh8sNp"
      }
    },
    {
      "cell_type": "markdown",
      "source": [
        "###Feature selection"
      ],
      "metadata": {
        "id": "mdongnit81qn"
      }
    },
    {
      "cell_type": "markdown",
      "source": [
        "위의 다른 모델들과 마찬가지로 feature selection도 적용시켜보았습니다."
      ],
      "metadata": {
        "id": "caXz4VYC83WA"
      }
    },
    {
      "cell_type": "code",
      "source": [
        "#k-best feature selection\n",
        "x_train_knn1_kbest1 = SelectKBest(chi2, k=3).fit_transform(x_train, y_train.values.ravel())\n",
        "print('score', cross_val_score(knn1, x_train_knn1_kbest1, y_train.values.ravel(), cv=5).mean())\n",
        "\n",
        "x_train_knn1_kbest2 = SelectKBest(chi2, k=5).fit_transform(x_train, y_train.values.ravel())\n",
        "print('score', cross_val_score(knn1, x_train_knn1_kbest2, y_train.values.ravel(), cv=5).mean())\n",
        "\n",
        "x_train_knn1_kbest3 = SelectKBest(chi2, k=8).fit_transform(x_train, y_train.values.ravel())\n",
        "print('score', cross_val_score(knn1, x_train_knn1_kbest3, y_train.values.ravel(), cv=5).mean())"
      ],
      "metadata": {
        "colab": {
          "base_uri": "https://localhost:8080/"
        },
        "id": "6rbfvHqB870f",
        "outputId": "c59e9aef-b97a-493d-f7d4-790788ecab17"
      },
      "execution_count": 147,
      "outputs": [
        {
          "output_type": "stream",
          "name": "stdout",
          "text": [
            "score 0.9289549627252676\n",
            "score 0.971332693410495\n",
            "score 0.9989447455997575\n"
          ]
        }
      ]
    },
    {
      "cell_type": "code",
      "source": [
        "#모델 기반 feature selection\n",
        "select_knn1 = SelectFromModel(knn1, threshold='median')\n",
        "select_knn1.fit(x_train, y_train.values.ravel())\n",
        "x_train_knn1 = select.transform(x_train)\n",
        "print('score', cross_val_score(knn1, x_train_knn1, y_train.values.ravel(), cv=5).mean())"
      ],
      "metadata": {
        "colab": {
          "base_uri": "https://localhost:8080/"
        },
        "id": "1671PsLv9Lug",
        "outputId": "301f9eac-404e-487c-9767-a94fdefe809d"
      },
      "execution_count": 145,
      "outputs": [
        {
          "output_type": "stream",
          "name": "stdout",
          "text": [
            "score 0.9899746967708627\n"
          ]
        }
      ]
    },
    {
      "cell_type": "markdown",
      "source": [
        "k-best feature selection의 경우 위 모델들과 마찬가지로 선정되는 feature의 개수가 많아질수록 성능이 높아지는 것이 관찰되었습니다. 위의 모델들과 다른 점은 기존 model 자체가 100%성능을 보이지 않는 만큼 feature selection을 통해 선정된 feature의 개수가 늘어남에 따라 기존 model보다 성능이 높은 경우도 발생하였는 것입니다. 모델 기반 feature selection의 경우는 다른 모델들과 마찬가지로 기존 모델보다 성능이 낮아지는 것이 관찰되었습니다."
      ],
      "metadata": {
        "id": "n4C4vVXs9XpH"
      }
    },
    {
      "cell_type": "markdown",
      "source": [
        "###결과"
      ],
      "metadata": {
        "id": "9-j9FnK7954i"
      }
    },
    {
      "cell_type": "code",
      "source": [
        "#모델을 fit\n",
        "knn1.fit(x_train, y_train.values.ravel())\n",
        "print('accuracy:', knn1.score(x_test, y_test.values.ravel()))\n",
        "\n",
        "#confusion matrix 출력\n",
        "y_pred_knn1 = knn1.predict(x_test)\n",
        "confusion_matrix(y_test, y_pred_knn1)\n",
        "plot_confusion_matrix(knn1, x_test, y_test.values.ravel(), normalize='all')"
      ],
      "metadata": {
        "colab": {
          "base_uri": "https://localhost:8080/",
          "height": 370
        },
        "id": "pS8JMyYr96th",
        "outputId": "e626f606-75d4-4bb7-fb65-006096312829"
      },
      "execution_count": 146,
      "outputs": [
        {
          "output_type": "stream",
          "name": "stdout",
          "text": [
            "accuracy: 0.9958982772764561\n"
          ]
        },
        {
          "output_type": "stream",
          "name": "stderr",
          "text": [
            "/usr/local/lib/python3.7/dist-packages/sklearn/utils/deprecation.py:87: FutureWarning: Function plot_confusion_matrix is deprecated; Function `plot_confusion_matrix` is deprecated in 1.0 and will be removed in 1.2. Use one of the class methods: ConfusionMatrixDisplay.from_predictions or ConfusionMatrixDisplay.from_estimator.\n",
            "  warnings.warn(msg, category=FutureWarning)\n"
          ]
        },
        {
          "output_type": "execute_result",
          "data": {
            "text/plain": [
              "<sklearn.metrics._plot.confusion_matrix.ConfusionMatrixDisplay at 0x7f6a4dd11d50>"
            ]
          },
          "metadata": {},
          "execution_count": 146
        },
        {
          "output_type": "display_data",
          "data": {
            "image/png": "[encoded data removed]",
            "text/plain": [
              "<Figure size 432x288 with 2 Axes>"
            ]
          },
          "metadata": {
            "needs_background": "light"
          }
        }
      ]
    },
    {
      "cell_type": "markdown",
      "source": [
        "##4-5. Random Forest\n",
        "\n",
        "###모델 선정 이유\n",
        "\n",
        "Classification 모델과 Regression 모델에 이어 앙상블 모델 중 하나인 Random forest가 Mushroom 데이터셋에 어느정도의 성능을 보이는지 확인하고자 하였습니다."
      ],
      "metadata": {
        "id": "RjVcMPpSsrkQ"
      }
    },
    {
      "cell_type": "markdown",
      "source": [
        "###실험 진행"
      ],
      "metadata": {
        "id": "iKSg36svs-H6"
      }
    },
    {
      "cell_type": "code",
      "source": [
        "#RF 모델 생성\n",
        "rf1 = RandomForestClassifier(random_state=42)\n",
        "\n",
        "#생성한 model에 대해 train data를 적용하고, 결과에 대한 cv score를 출력합니다.\n",
        "print('score:', cross_val_score(rf1, x_train, y_train.values.ravel(), cv=5).mean())"
      ],
      "metadata": {
        "colab": {
          "base_uri": "https://localhost:8080/"
        },
        "id": "q0_JxdkitFXQ",
        "outputId": "04a45cc2-0be8-4298-f0d8-de1e1840017d"
      },
      "execution_count": 111,
      "outputs": [
        {
          "output_type": "stream",
          "name": "stdout",
          "text": [
            "score: 1.0\n"
          ]
        }
      ]
    },
    {
      "cell_type": "markdown",
      "source": [
        "parameter를 조정해가면서 어떤 결과값이 산출되는지 확인해보았습니다."
      ],
      "metadata": {
        "id": "Armo2QSktzhb"
      }
    },
    {
      "cell_type": "code",
      "source": [
        "rf2 = RandomForestClassifier(n_estimators=150, max_depth=20, random_state=42)\n",
        "print('score:', cross_val_score(rf2, x_train, y_train.values.ravel(), cv=5).mean())\n",
        "\n",
        "rf3 = RandomForestClassifier(n_estimators=200, min_samples_leaf=2, random_state=42)\n",
        "print('score:', cross_val_score(rf3, x_train, y_train.values.ravel(), cv=5).mean())\n",
        "\n",
        "rf4 = RandomForestClassifier(n_estimators=250, min_samples_split=3, random_state=42)\n",
        "print('score:', cross_val_score(rf4, x_train, y_train.values.ravel(), cv=5).mean())\n",
        "\n",
        "rf5 = RandomForestClassifier(n_estimators=300, random_state=42)\n",
        "print('score:', cross_val_score(rf5, x_train, y_train.values.ravel(), cv=5).mean())"
      ],
      "metadata": {
        "colab": {
          "base_uri": "https://localhost:8080/"
        },
        "id": "Nj84juFgt2SK",
        "outputId": "9bbcd902-954e-47b2-e38c-b760cf42400e"
      },
      "execution_count": 112,
      "outputs": [
        {
          "output_type": "stream",
          "name": "stdout",
          "text": [
            "score: 1.0\n",
            "score: 1.0\n",
            "score: 1.0\n",
            "score: 1.0\n"
          ]
        }
      ]
    },
    {
      "cell_type": "markdown",
      "source": [
        "조정된 parameter에 대한 모델들도 같은 결과값을 산출한다는 것을 확인하였습니다."
      ],
      "metadata": {
        "id": "lGKwUiRBuwLC"
      }
    },
    {
      "cell_type": "markdown",
      "source": [
        "###Feature selection"
      ],
      "metadata": {
        "id": "YU0FtbKi27Gj"
      }
    },
    {
      "cell_type": "markdown",
      "source": [
        "위의 다른 모델들과 마찬가지로 feature selection도 적용시켜보았습니다."
      ],
      "metadata": {
        "id": "SeuGzypn3d1q"
      }
    },
    {
      "cell_type": "code",
      "source": [
        "#k-best feature selection\n",
        "x_train_rf1_kbest1 = SelectKBest(chi2, k=3).fit_transform(x_train, y_train.values.ravel())\n",
        "print('score', cross_val_score(rf1, x_train_rf1_kbest1, y_train.values.ravel(), cv=5).mean())\n",
        "\n",
        "x_train_rf1_kbest2 = SelectKBest(chi2, k=5).fit_transform(x_train, y_train.values.ravel())\n",
        "print('score', cross_val_score(rf1, x_train_rf1_kbest2, y_train.values.ravel(), cv=5).mean())\n",
        "\n",
        "x_train_rf1_kbest3 = SelectKBest(chi2, k=8).fit_transform(x_train, y_train.values.ravel())\n",
        "print('score', cross_val_score(rf1, x_train_rf1_kbest3, y_train.values.ravel(), cv=5).mean())"
      ],
      "metadata": {
        "colab": {
          "base_uri": "https://localhost:8080/"
        },
        "id": "z6d5l90S29fI",
        "outputId": "84defa97-34d8-4b56-9674-24c71a646ec4"
      },
      "execution_count": 139,
      "outputs": [
        {
          "output_type": "stream",
          "name": "stdout",
          "text": [
            "score 0.9444234743482138\n",
            "score 0.9718602433252492\n",
            "score 1.0\n"
          ]
        }
      ]
    },
    {
      "cell_type": "code",
      "source": [
        "#모델 기반 feature selection\n",
        "select_rf1 = SelectFromModel(rf1, threshold='median')\n",
        "select_rf1.fit(x_train, y_train.values.ravel())\n",
        "x_train_rf1 = select.transform(x_train)\n",
        "print('score', cross_val_score(rf1, x_train_rf1, y_train.values.ravel(), cv=5).mean())"
      ],
      "metadata": {
        "colab": {
          "base_uri": "https://localhost:8080/"
        },
        "id": "Sshkqq0I3ROB",
        "outputId": "326d2f60-b895-4f92-b378-48707fb52bea"
      },
      "execution_count": 134,
      "outputs": [
        {
          "output_type": "stream",
          "name": "stdout",
          "text": [
            "score 0.9957794461112321\n"
          ]
        }
      ]
    },
    {
      "cell_type": "markdown",
      "source": [
        "다른 모델들과 마찬가지로 feature selection을 적용한 경우 성능이 낮아지는 것을 확인하였습니다."
      ],
      "metadata": {
        "id": "nIhz02SG3hRJ"
      }
    },
    {
      "cell_type": "markdown",
      "source": [
        "###결과"
      ],
      "metadata": {
        "id": "Aq-pa0vJu4my"
      }
    },
    {
      "cell_type": "code",
      "source": [
        "#모델을 fit\n",
        "rf1.fit(x_train, y_train.values.ravel())\n",
        "print('accuracy:', rf1.score(x_test, y_test.values.ravel()))\n",
        "\n",
        "#confusion matrix 출력\n",
        "y_pred_rf1 = rf1.predict(x_test)\n",
        "confusion_matrix(y_test, y_pred_rf1)\n",
        "plot_confusion_matrix(rf1, x_test, y_test.values.ravel(), normalize='all')"
      ],
      "metadata": {
        "colab": {
          "base_uri": "https://localhost:8080/",
          "height": 370
        },
        "id": "AOi1sNRJu5Ey",
        "outputId": "ca33f99c-bcb9-44f4-c646-00e945e2d7d3"
      },
      "execution_count": 114,
      "outputs": [
        {
          "output_type": "stream",
          "name": "stdout",
          "text": [
            "accuracy: 1.0\n"
          ]
        },
        {
          "output_type": "stream",
          "name": "stderr",
          "text": [
            "/usr/local/lib/python3.7/dist-packages/sklearn/utils/deprecation.py:87: FutureWarning: Function plot_confusion_matrix is deprecated; Function `plot_confusion_matrix` is deprecated in 1.0 and will be removed in 1.2. Use one of the class methods: ConfusionMatrixDisplay.from_predictions or ConfusionMatrixDisplay.from_estimator.\n",
            "  warnings.warn(msg, category=FutureWarning)\n"
          ]
        },
        {
          "output_type": "execute_result",
          "data": {
            "text/plain": [
              "<sklearn.metrics._plot.confusion_matrix.ConfusionMatrixDisplay at 0x7f6a4e5e5750>"
            ]
          },
          "metadata": {},
          "execution_count": 114
        },
        {
          "output_type": "display_data",
          "data": {
            "image/png": "[encoded data removed]",
            "text/plain": [
              "<Figure size 432x288 with 2 Axes>"
            ]
          },
          "metadata": {
            "needs_background": "light"
          }
        }
      ]
    },
    {
      "cell_type": "markdown",
      "source": [
        "#5. 결론"
      ],
      "metadata": {
        "id": "ZczsvrIWvf3B"
      }
    },
    {
      "cell_type": "markdown",
      "source": [
        "##1. Decision Tree\n",
        "\n",
        "가장 먼저 실험을 진행했던 모델로, 데이터셋의 feature 자체가 많기도 하고, 순수하게 feature들만을 이용하는 모델이다보니 좋은 성능을 기대하지 않았던 모델이었지만, 예상과는 달리 높은 성능을 보였습니다. 하지만 feature selection을 적용한 결과 모델의 성능이 낮아진 것이 관찰된 것으로 보아, feature의 갯수가 많다보니 model이 overfit된 것이라고 생각했습니다."
      ],
      "metadata": {
        "id": "XHXnZee7viXa"
      }
    },
    {
      "cell_type": "markdown",
      "source": [
        "##2. Logistic Regression\n",
        "\n",
        "실험을 시작하기 전에는 Decision Tree보다는 높은 성능을 가질 것이라고 예측했던 모델이었습니다. 하지만 실험 결과에서 알 수 있듯이 오히려 DT보다 낮은 성능을 보였습니다. Classfication에 목적을 두고 있는 model이지만 개념 자체가 regression에서 출발하는 만큼 다른 classification model들보다는 낮은 성능을 보인 것이 아닌가라는 추측을 해보았습니다. 또한. feature selection을 진행한 경우에는 성능이 더 낮아지는 것을 관찰할 수 있었는데, 이는 DT의 경우와 마찬가지로 feature selection을 적용하기 이전의 model이 overfit된 경향을 보이는 것이 아닌가라는 생각을 해보았습니다. 결과적으로 5개의 모델 중 가장 낮은 성능을 보였습니다."
      ],
      "metadata": {
        "id": "ExHKQNVOw0go"
      }
    },
    {
      "cell_type": "markdown",
      "source": [
        "##3. MLP\n",
        "\n",
        "가장 높은 성능을 보일 것이라고 예상했던 모델이었고, 실제로 실험 결과 높은 성능을 보인 모델이었습니다. 데이터셋의 feature 개수 자체가 많았고, 모델 자체의 특성 때문에 학습과 연산시간이 굉장히 오래 거리는 모델이었습니다. 이 역시 이전 model들처럼 많은 feature들로 인해 overfit된 경향을 보이는 것 같았습니다. 그래서 k-best feature selection을 적용한 결과값을 유의깊게 보았고, 그 결과 동일한 수의 feature에 대하여 DT보다 약간 낮은 성능을 보이는 것으로 관찰되었습니다."
      ],
      "metadata": {
        "id": "XydipL9KxXfi"
      }
    },
    {
      "cell_type": "markdown",
      "source": [
        "##4. KNeighborsClassifier\n",
        "\n",
        "KNN의 경우, 100%의 성능은 아니지만 역시 100%에 가까운 성능을 보였습니다. 이 모델 또한 feature selection을 적용한 결과 성능이 줄어들었는데, feature selection을 적용한 결과를 다른 모델들과 비교해보았을 때, Decision Tree와 MLP보다는 낮지만 Logistic Regression보다는 높은 성능을 보였습니다."
      ],
      "metadata": {
        "id": "FXjdHhgL-alw"
      }
    },
    {
      "cell_type": "markdown",
      "source": [
        "##5. Random Forest\n",
        "DT와 MLP의 경우와 마찬가지로, feature selection을 적용하기 전에는 100%의 성능을 보였고, feature selection을 적용한 후에는 낮아진 성능을 보였습니다. 이 역시 많은 feature 수에 의해 overfit되었다고 판단하였고, k-best feature selection의 결과를 유의깊게 관찰하였습니다. 여러 결정트리를 앙상블하는 방법이기 때문에 DT보다 좋은 성능을 보일 것을 기대했지만 예상과는 달리 Decision Tree와 동일한 성능을 보였습니다."
      ],
      "metadata": {
        "id": "A3vF8VMbzPy4"
      }
    },
    {
      "cell_type": "markdown",
      "source": [
        "###데이터셋 자체에서 feature의 수가 많다보니 모든 model에 있어서 학습 과정 중 overfit된 경향을 보인 것 같습니다. 이는 model을 훈련시키기 이전에 data에 대한 충분한 관찰을 통하여 invalid한 feature를 사전에 식별하고 배제하는 전처리 과정이 필요할 것이라고 생각됩니다. 물론 feature selection을 적용하였을 때에는 모델별로 유의한 성능차이를 보였기 때문에 이를 바탕으로 모델들을 비교해보았습니다. 그 결과로 Decision Tree와 Random Forest가 다른 모델들에 비해 높은 성능을 보였습니다. Mushroom 데이터셋 자체가 단순하고, 어떻게 보면 굉장히 정형적인 데이터인데, 이러한 데이터셋의 특성과 위 실험의 결과를 고려해보았을 때 충분히 정형적이고 예측하기 쉬운 데이터셋에 대해서는 MLP나 Random Forest와 같은 복잡한 모델을 적용할 필요 없이 Decision Tree와 같은 단순한 모델을 적용하더라도 충분한 결과, 오히려 더 좋은 결과를 도출해낼 수 있다는 결론을 내릴 수 있었습니다."
      ],
      "metadata": {
        "id": "4dQ01-GZ57Ch"
      }
    }
  ]
}